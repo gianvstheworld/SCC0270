{
 "cells": [
  {
   "cell_type": "markdown",
   "metadata": {},
   "source": [
    "# AULA 2 DEMONSTRAÇÃO - Multi-Layer Perceptron\n",
    "\n",
    "Aula 2 - Aula Assíncrona\n",
    "https://www.youtube.com/watch?v=PMrKHx_U--w&ab_channel=MoacirAntonelliPonti\n",
    "\n",
    "---\n",
    "\n",
    "## Perceptrons e Multi-layer Perceptrons\n",
    "\n",
    "- Implementando um modelo de perceptron com Pytorch\n",
    "\n",
    "---"
   ]
  },
  {
   "cell_type": "code",
   "execution_count": 9,
   "metadata": {},
   "outputs": [],
   "source": [
    "import torch"
   ]
  },
  {
   "cell_type": "markdown",
   "metadata": {},
   "source": [
    "### Modelo Linear\n",
    "\n",
    "* Construir um modelo linear com classes orientadas a objeto\n",
    "    * Modelo linear: w.X + b"
   ]
  },
  {
   "cell_type": "code",
   "execution_count": 10,
   "metadata": {},
   "outputs": [],
   "source": [
    "class Model():\n",
    "    # construtor inicializa os parametros\n",
    "    def __init__(self, num_inputs):\n",
    "        # w inicial: amostrando de uma distribuicao normal media 0 e desvio padrao 1\n",
    "        self.w = torch.normal(0, 1, (num_inputs, 1))\n",
    "        # b inicial: valor constante 1 ou 0, as vezes com 1/total de classes\n",
    "        self.b = torch.zeros(1)\n",
    "\n",
    "    # forward: de x até a saida\n",
    "    def forward(self, X):\n",
    "        # X w + b\n",
    "        return X @ self.w + self.b # multipliação e soma matricial\n",
    "\n",
    "    # funcao custo\n",
    "    def loss(self, y, y_hat):\n",
    "        yreshape = y.reshape(y_hat.shape)\n",
    "        l = (y_hat - yreshape)**2/2\n",
    "        return l.mean()"
   ]
  },
  {
   "cell_type": "code",
   "execution_count": 11,
   "metadata": {},
   "outputs": [
    {
     "data": {
      "text/plain": [
       "(tensor([[-0.2601],\n",
       "         [ 1.5535]]),\n",
       " tensor([[1.2934]]))"
      ]
     },
     "execution_count": 11,
     "metadata": {},
     "output_type": "execute_result"
    }
   ],
   "source": [
    "model = Model(2)\n",
    "model.w, model.forward(torch.tensor([[1,1]], dtype = torch.float32))"
   ]
  },
  {
   "cell_type": "markdown",
   "metadata": {},
   "source": [
    "### Modelo em Prática\n",
    "\n",
    "- Testar o modelo com um problema de regressão \n",
    "    - Dois datasets: x e y\n",
    "        - O dataset x tem ruído "
   ]
  },
  {
   "cell_type": "code",
   "execution_count": 12,
   "metadata": {},
   "outputs": [
    {
     "data": {
      "text/plain": [
       "(tensor([[ 0.8909,  0.3575],\n",
       "         [ 2.0997,  1.9977],\n",
       "         [ 3.9524,  4.9909],\n",
       "         [ 6.4150,  7.0071],\n",
       "         [ 7.6181,  8.4024],\n",
       "         [ 9.7568, 11.3322],\n",
       "         [11.7904, 12.4074],\n",
       "         [13.8729, 14.4491]]),\n",
       " tensor([0., 1., 2., 3., 4., 5., 6., 7.]))"
      ]
     },
     "execution_count": 12,
     "metadata": {},
     "output_type": "execute_result"
    }
   ],
   "source": [
    "x = torch.arange(16,  dtype = torch.float32).reshape((8,2)) + torch.normal(0,0.5, (8,2))\n",
    "y =  torch.arange(8,  dtype = torch.float32)\n",
    "x, y"
   ]
  },
  {
   "cell_type": "code",
   "execution_count": 13,
   "metadata": {},
   "outputs": [
    {
     "data": {
      "text/plain": [
       "(tensor([[ 0.3236],\n",
       "         [ 2.5573],\n",
       "         [ 6.7252],\n",
       "         [ 9.2169],\n",
       "         [11.0715],\n",
       "         [15.0667],\n",
       "         [16.2081],\n",
       "         [18.8382]]),\n",
       " tensor([0., 1., 2., 3., 4., 5., 6., 7.]),\n",
       " 8)"
      ]
     },
     "execution_count": 13,
     "metadata": {},
     "output_type": "execute_result"
    }
   ],
   "source": [
    "y_hat = model.forward(x)\n",
    "y_hat, y"
   ]
  },
  {
   "cell_type": "code",
   "execution_count": 14,
   "metadata": {},
   "outputs": [
    {
     "data": {
      "text/plain": [
       "tensor(28.7001)"
      ]
     },
     "execution_count": 14,
     "metadata": {},
     "output_type": "execute_result"
    }
   ],
   "source": [
    "# quão bom ta esse modelo acima?\n",
    "model.loss(y, y_hat)"
   ]
  },
  {
   "cell_type": "markdown",
   "metadata": {},
   "source": [
    "O valor acima é a perda quadrática média pra este modelo, ou seja, quanto menor essa perda melhor será o modelo!\n",
    "\n",
    "### Modelo com gradiente\n",
    "\n",
    "- Para garantir que haja uma evolução, vamos usar o gradient descent (GD)"
   ]
  },
  {
   "cell_type": "code",
   "execution_count": 15,
   "metadata": {},
   "outputs": [],
   "source": [
    "class Model2():\n",
    "    # construtor inicializa os parametros\n",
    "    def __init__(self, num_inputs):\n",
    "        # w inicial: amostrando de uma distribuicao normal media 0 e desvio padrao 1\n",
    "        self.w = torch.normal(0, 1, (num_inputs, 1), requires_grad=True)\n",
    "        # b inicial: valor constante 1 ou 0, as vezes com 1/total de classes\n",
    "        self.b = torch.zeros(1, requires_grad=True)\n",
    "\n",
    "    # forward: de x até a saida\n",
    "    def forward(self, X):\n",
    "        # X w + b\n",
    "        return X @ self.w + self.b # multipliação e soma matricial\n",
    "\n",
    "    # funcao custo\n",
    "    def loss(self, y, y_hat):\n",
    "        yreshape = y.reshape(y_hat.shape)\n",
    "        l = (y_hat - yreshape)**2/2\n",
    "        return l.mean()"
   ]
  },
  {
   "cell_type": "code",
   "execution_count": 16,
   "metadata": {},
   "outputs": [
    {
     "data": {
      "text/plain": [
       "(tensor([[ 0.2342],\n",
       "         [ 1.6947],\n",
       "         [ 4.4072],\n",
       "         [ 6.0716],\n",
       "         [ 7.2906],\n",
       "         [ 9.9021],\n",
       "         [10.6932],\n",
       "         [12.4338]], grad_fn=<AddBackward0>),\n",
       " tensor(6.3862, grad_fn=<MeanBackward0>))"
      ]
     },
     "execution_count": 16,
     "metadata": {},
     "output_type": "execute_result"
    }
   ],
   "source": [
    "model2 = Model2(2)\n",
    "\n",
    "y_hat = model2.forward(x)\n",
    "y_hat, model2.loss(y, y_hat)"
   ]
  },
  {
   "cell_type": "markdown",
   "metadata": {},
   "source": [
    "* Por enquanto não vamos usar, mas com esse grad_fn ativado, já poderíamos implementar o gradient descent\n",
    "\n",
    "*obs: esse modelo é quase um Perceptron, falta alguns ajustes para ser um propriamente dito (como por exemplo uma função de ativação)*\n",
    "\n",
    "---"
   ]
  }
 ],
 "metadata": {
  "kernelspec": {
   "display_name": "Python 3.8.10 64-bit",
   "language": "python",
   "name": "python3"
  },
  "language_info": {
   "codemirror_mode": {
    "name": "ipython",
    "version": 3
   },
   "file_extension": ".py",
   "mimetype": "text/x-python",
   "name": "python",
   "nbconvert_exporter": "python",
   "pygments_lexer": "ipython3",
   "version": "3.8.10"
  },
  "orig_nbformat": 4,
  "vscode": {
   "interpreter": {
    "hash": "916dbcbb3f70747c44a77c7bcd40155683ae19c65e1c03b4aa3499c5328201f1"
   }
  }
 },
 "nbformat": 4,
 "nbformat_minor": 2
}
