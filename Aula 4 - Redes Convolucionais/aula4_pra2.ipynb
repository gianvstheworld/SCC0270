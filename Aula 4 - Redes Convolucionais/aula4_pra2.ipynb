{
 "cells": [
  {
   "cell_type": "markdown",
   "metadata": {},
   "source": [
    "# AULA 4 - Prática 2: Redes Convolucionais\n",
    "\n",
    "\n",
    "Aula 4- Aula Assíncrona\n",
    "https://www.youtube.com/watch?v=yvsJDLn6Ots&ab_channel=MoacirAntonelliPonti\n",
    "\n",
    "---\n",
    "\n",
    "## PyTorch Custom Dataset\n",
    "\n",
    "- Customização de dataset\n",
    "\n",
    "---"
   ]
  },
  {
   "cell_type": "code",
   "execution_count": 1,
   "metadata": {},
   "outputs": [],
   "source": [
    "import numpy as np\n",
    "import pandas as pd\n",
    "from sklearn.model_selection import train_test_split\n",
    "\n",
    "import torch\n",
    "from torch.utils.data import Dataset\n",
    "from torch.utils.data import DataLoader"
   ]
  },
  {
   "cell_type": "markdown",
   "metadata": {},
   "source": [
    "Para definir um dataset personalizado, para qualquer tipo de dados, projetamos uma classe herdando de `Dataset` e contendo os métodos:\n",
    "- `__init__` que vai atribuir os dados\n",
    "- `__len__` que retorna o tamanho do dataset\n",
    "- `__getitem__` que retorna um item baseado em um índice"
   ]
  },
  {
   "cell_type": "code",
   "execution_count": 2,
   "metadata": {},
   "outputs": [],
   "source": [
    "class MyDataset(Dataset):\n",
    "    def __init__(self, data):\n",
    "        self.data = data\n",
    "        \n",
    "    def __len__(self):\n",
    "        return len(self.data)\n",
    "    \n",
    "    def __getitem__(self, idx):\n",
    "        return self.data[idx]"
   ]
  },
  {
   "cell_type": "markdown",
   "metadata": {},
   "source": [
    "* Essa classe será usada para armazenar os dados "
   ]
  },
  {
   "cell_type": "code",
   "execution_count": 5,
   "metadata": {},
   "outputs": [
    {
     "name": "stdout",
     "output_type": "stream",
     "text": [
      "Dados: [ 5  0 12  8  3 10  2  5 17 13 19 16 18 16 15 10  8 14 17 10]\n",
      "Total de exemplos no dataset: 20\n",
      "Podemos usar colchetes pois implementamos o __getitem__, exemplo: 12\n",
      "[ 5  0 12  8  3]\n"
     ]
    }
   ],
   "source": [
    "random_data = np.random.randint(0, 20, (20)) # valores aleatórios \n",
    "print('Dados:', random_data)\n",
    "\n",
    "dataset = MyDataset(random_data) # valores acima na classe\n",
    "print('Total de exemplos no dataset:', len(dataset))\n",
    "print('Podemos usar colchetes pois implementamos o __getitem__, exemplo:', dataset[2])\n",
    "print(dataset[0:5])"
   ]
  },
  {
   "cell_type": "code",
   "execution_count": 7,
   "metadata": {},
   "outputs": [
    {
     "name": "stdout",
     "output_type": "stream",
     "text": [
      "tensor([ 5,  0, 12,  8,  3, 10])\n"
     ]
    }
   ],
   "source": [
    "# usando dataloader da aula passada\n",
    "train_dataloader = DataLoader(dataset, batch_size=6, shuffle=False) # como shuffle ta False, ele pega os 1ºs 6 itens\n",
    "next_batch = next(iter(train_dataloader))\n",
    "print(next_batch)"
   ]
  },
  {
   "cell_type": "code",
   "execution_count": 8,
   "metadata": {},
   "outputs": [
    {
     "name": "stdout",
     "output_type": "stream",
     "text": [
      "tensor([ 5,  0, 12,  8,  3, 10])\n",
      "tensor([ 2,  5, 17, 13, 19, 16])\n",
      "tensor([18, 16, 15, 10,  8, 14])\n",
      "tensor([17, 10])\n"
     ]
    }
   ],
   "source": [
    "iterator_train = iter(train_dataloader)\n",
    "next_batch = next(iterator_train)\n",
    "print(next_batch) # 6 primeiros elementos\n",
    "next_batch = next(iterator_train)\n",
    "print(next_batch) # segunda leva de 6 elementos\n",
    "next_batch = next(iterator_train)\n",
    "print(next_batch) # terceira leva de 6 elementos\n",
    "next_batch = next(iterator_train)\n",
    "print(next_batch) # ultima leva com os que sobraram\n",
    "## next_batch = next(iterator_train)\n",
    "## print(next_batch) # gera erro pois nao há mais items para retornar"
   ]
  },
  {
   "cell_type": "code",
   "execution_count": 9,
   "metadata": {},
   "outputs": [
    {
     "name": "stdout",
     "output_type": "stream",
     "text": [
      "Dados:  [[1 4 4 3]\n",
      " [3 4 4 2]\n",
      " [1 1 4 3]\n",
      " [2 4 3 1]\n",
      " [2 4 2 3]\n",
      " [2 4 3 4]\n",
      " [1 3 2 3]\n",
      " [2 2 3 1]\n",
      " [2 4 3 2]\n",
      " [1 4 4 3]]\n",
      "Total de exemplos no dataset:  10\n",
      "Podemos usar colchetes pois implementamos o __getitem__, exemplo: [1 1 4 3]\n",
      "[[1 4 4 3]\n",
      " [3 4 4 2]\n",
      " [1 1 4 3]]\n"
     ]
    }
   ],
   "source": [
    "# outro dataset contendo 10 instancias com 4 features cada\n",
    "random_data2 = np.random.randint(1,5, (10, 4))\n",
    "print('Dados: ', random_data2)\n",
    "\n",
    "dataset2 = MyDataset(random_data2)\n",
    "print('Total de exemplos no dataset: ', len(dataset2))\n",
    "print('Podemos usar colchetes pois implementamos o __getitem__, exemplo:', dataset2[2])\n",
    "print(dataset2[:3])"
   ]
  },
  {
   "cell_type": "code",
   "execution_count": 10,
   "metadata": {},
   "outputs": [],
   "source": [
    "# dataloader 2\n",
    "train_dataloader2 = DataLoader(dataset2, batch_size=3, shuffle=True) # shuffle true, valores aleatrios\n",
    "iterator_train = iter(train_dataloader2)"
   ]
  },
  {
   "cell_type": "code",
   "execution_count": 11,
   "metadata": {},
   "outputs": [
    {
     "name": "stdout",
     "output_type": "stream",
     "text": [
      "tensor([[1, 3, 2, 3],\n",
      "        [2, 2, 3, 1],\n",
      "        [1, 1, 4, 3]])\n",
      "tensor([[1, 4, 4, 3],\n",
      "        [1, 4, 4, 3],\n",
      "        [2, 4, 3, 1]])\n",
      "tensor([[2, 4, 3, 2],\n",
      "        [3, 4, 4, 2],\n",
      "        [2, 4, 2, 3]])\n",
      "tensor([[2, 4, 3, 4]])\n"
     ]
    }
   ],
   "source": [
    "next_batch = next(iterator_train, None)\n",
    "while next_batch != None: # iterar pelos batches\n",
    "    print(next_batch) # vale lembrar que o shuffle ta True, então os valores sao aleatorios no dataset\n",
    "    next_batch = next(iterator_train, None)"
   ]
  },
  {
   "cell_type": "markdown",
   "metadata": {},
   "source": [
    "---"
   ]
  }
 ],
 "metadata": {
  "kernelspec": {
   "display_name": "Python 3.8.10 64-bit",
   "language": "python",
   "name": "python3"
  },
  "language_info": {
   "codemirror_mode": {
    "name": "ipython",
    "version": 3
   },
   "file_extension": ".py",
   "mimetype": "text/x-python",
   "name": "python",
   "nbconvert_exporter": "python",
   "pygments_lexer": "ipython3",
   "version": "3.8.10"
  },
  "orig_nbformat": 4,
  "vscode": {
   "interpreter": {
    "hash": "916dbcbb3f70747c44a77c7bcd40155683ae19c65e1c03b4aa3499c5328201f1"
   }
  }
 },
 "nbformat": 4,
 "nbformat_minor": 2
}
