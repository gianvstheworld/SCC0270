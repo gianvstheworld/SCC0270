{
 "cells": [
  {
   "cell_type": "markdown",
   "metadata": {},
   "source": [
    "# AULA 7 TEORIA - Redes Geradoras\n",
    "\n",
    "Aula 7 - Aula Assíncrona\n",
    "https://www.youtube.com/watch?v=1LLDe8VheUs\n",
    "\n",
    "---\n",
    "\n",
    "## Redes geradoras\n",
    "\n",
    "- Modelos geradores\n",
    "- Autoencoders variacionais (VAEs)\n",
    "- Redes adversárias geradoras (GANs)\n",
    "- Modelos baseados em Difusão\n",
    "---"
   ]
  },
  {
   "cell_type": "markdown",
   "metadata": {},
   "source": [
    "## Interpretação\n",
    "\n",
    "Aprender a distribuição que \"gera\" os dados permite amostrar a partir dela\n",
    "\n",
    "<img src=\"Imagens/learn_distr.png\" width=\"500\"> \n",
    "\n",
    "Mas podemos querer apenas dados, não uma distribuição\n",
    "\n",
    "<img src=\"Imagens/dados.png\" width=\"500\"> \n",
    "\n",
    "### Tipos de Métodos\n",
    "\n",
    "Funções densidade explícitas \n",
    "- Fully Visible Belief Nets\n",
    "- Boltzmann Machines \n",
    "- __Variational Autoencoders__\n",
    "\n",
    "Funções densidades implícitas\n",
    "- Métodos de Monte Carlo\n",
    "- Likelihood-free inference via classification\n",
    "- __Generative Adversarial Networks__\n",
    "\n",
    "---"
   ]
  },
  {
   "cell_type": "markdown",
   "metadata": {},
   "source": [
    "## Autoencoders Variacionais\n",
    "\n",
    "Autoencoders convencionais tentam codificar atributos de forma discreta\n",
    "- Disentaglement\n",
    "\n",
    "<img src=\"Imagens/ae.png\" width=\"500\"> \n",
    "\n",
    "Autoencoders variacionais aprendem uma distribuição (seus parâmetros) de cada variável latente, a partir do qual se amostram valores para cada variável latente\n",
    "\n",
    "<img src=\"Imagens/aev.png\" width=\"500\"> \n",
    "\n",
    "### Função de perda ELBO (Evidence Lower Bound)\n",
    "\n",
    "<img src=\"Imagens/dkb.png\" width=\"500\"> \n",
    "\n",
    "---"
   ]
  },
  {
   "cell_type": "markdown",
   "metadata": {},
   "source": [
    "## Redes Adversárias Geradoras (GANs) \n",
    "\n",
    "* __Adversária__ pois há dois componentes que \"disputam\" entre si\n",
    "* __Geradora__ pois o objetivo central é aprender a gerar dados\n",
    "\n",
    "### Gerador \n",
    "- Recebe um exemplo $z'$ obtido de uma distribuição, i.e. $z' \\sim q(z)$\n",
    "- Gera x por meio de uma função $x=f(z')$\n",
    "\n",
    "### Discriminador\n",
    "* Recebe $x$ e classifica se esse foi produzido pela distribuição original ou pela aproximação do gerador\n",
    "\n",
    "Exemplo didático:\n",
    "\n",
    "<img src=\"Imagens/gan.png\" width=\"500\">\n",
    "\n",
    "Exemplo computacional:\n",
    "\n",
    "<img src=\"Imagens/gan2.png\" width=\"500\">\n",
    "\n",
    "Formulação da rede GAN:\n",
    "\n",
    "<img src=\"Imagens/form_gan.png\" width=\"500\">\n",
    "\n",
    "O problema da formulação original é que o discriminador é treinado com exemplos reais e falsos, mas há um momento em que tanto o gerador quanto o discriminador estarão nos mesmos pontos de perda, tornando o treinamento inútil.\n",
    "\n",
    "### Aritmética no espaço latente\n",
    "\n",
    "<img src=\"Imagens/aritmetica.png\" width=\"500\">\n",
    "\n",
    "Exemplo de GAN: https://thispersondoesnotexist.com/\n",
    "\n",
    "---"
   ]
  },
  {
   "cell_type": "markdown",
   "metadata": {},
   "source": [
    "## Modelos Baseados em Difusão\n",
    "\n",
    "<img src=\"Imagens/dif.png\" width=\"500\">\n",
    "\n",
    "O modelo baseia-se na adição de ruído em um certo dado até ele se tornar irreconhecível\n",
    "\n",
    "Forward\n",
    "\n",
    "<img src=\"Imagens/forward1.png\" width=\"500\">\n",
    "<img src=\"Imagens/forward2.png\" width=\"500\">\n",
    "\n",
    "\n",
    "Reverse\n",
    "\n",
    "<img src=\"Imagens/reverse.png\" width=\"500\">\n",
    "\n",
    "Modelo\n",
    "\n",
    "<img src=\"Imagens/modelo.png\" width=\"500\">\n",
    "\n",
    "Perda\n",
    "\n",
    "<img src=\"Imagens/perda.png\" width=\"500\">\n",
    "\n",
    "---"
   ]
  }
 ],
 "metadata": {
  "kernelspec": {
   "display_name": "Python 3.8.10 64-bit",
   "language": "python",
   "name": "python3"
  },
  "language_info": {
   "name": "python",
   "version": "3.8.10"
  },
  "orig_nbformat": 4,
  "vscode": {
   "interpreter": {
    "hash": "916dbcbb3f70747c44a77c7bcd40155683ae19c65e1c03b4aa3499c5328201f1"
   }
  }
 },
 "nbformat": 4,
 "nbformat_minor": 2
}
