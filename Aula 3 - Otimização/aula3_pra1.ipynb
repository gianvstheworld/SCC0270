{
 "cells": [
  {
   "cell_type": "markdown",
   "metadata": {},
   "source": [
    "# AULA 3 - Prática 1: Introdução à Otimização para Redes Neurais\n",
    "\n",
    "Aula 3 - Aula Assíncrona\n",
    "https://www.youtube.com/watch?time_continue=9&v=xkO_72hW7WY&ab_channel=MoacirAntonelliPonti\n",
    "\n",
    "---\n",
    "\n",
    "## Otimização para Redes Neurais\n",
    "\n",
    "- Implementando um modelo de perceptron com Pytorch para regressão\n",
    "    - Regressão\n",
    "    - Forward pass\n",
    "    - Treinamento com backpropagation/gradient descent\n",
    "\n",
    "---"
   ]
  },
  {
   "cell_type": "code",
   "execution_count": 102,
   "metadata": {},
   "outputs": [],
   "source": [
    "import torch\n",
    "import numpy as np\n",
    "import matplotlib.pyplot as plt"
   ]
  },
  {
   "cell_type": "markdown",
   "metadata": {},
   "source": [
    "- Modelo da aula anterior -> completar com o que faltava para um Perceptron\n",
    "    - Treinamento do perceptron basicamente\n",
    "\n",
    "* Utilizamos o gradient descent normal primeiramente, sem aproveitar todo o batch ou parte dele"
   ]
  },
  {
   "cell_type": "code",
   "execution_count": 103,
   "metadata": {},
   "outputs": [],
   "source": [
    "class Perceptron():\n",
    "\n",
    "    def __init__(self, num_inputs, learning_rate = 0.01):\n",
    "        self.w = torch.normal(0, 1, (num_inputs, 1), requires_grad=True)\n",
    "        self.b = torch.zeros(1, requires_grad=True)\n",
    "        self.num_inputs = num_inputs # num de entradas\n",
    "        self.lr = learning_rate # taxa de aprendizado\n",
    "\n",
    "    def act_relu(self, x):\n",
    "        a = torch.zeros_like(x)\n",
    "        return torch.max(x, a)\n",
    "    \n",
    "    def forward(self, X):\n",
    "        # X w + b\n",
    "        linear = X @ self.w + self.b # multiplicação e soma matricial\n",
    "        return self.act_relu(linear)\n",
    "\n",
    "    def squared_loss(self, y, y_hat):\n",
    "        yr = y.reshape(y_hat.shape) # check extra de que o shape de y é igual ao de y_hat\n",
    "        l = (y_hat - yr)**2/2\n",
    "        return l.mean()\n",
    "\n",
    "    def backward(self, X, y):\n",
    "        y_hat = self.forward(X) # forward pass\n",
    "        errors = (y.reshape(y_hat.shape) - y_hat) # diferenciação\n",
    "        return errors\n",
    "\n",
    "    def train_step(self, X, y):\n",
    "        for i in range(y.shape[0]): # roda o dataset\n",
    "            error = self.backward(X[i].reshape(1, self.num_inputs), y[i].reshape(-1))\n",
    "            # gradient descent\n",
    "            self.w = self.w + self.lr*(error * X[i]).reshape(self.num_inputs, 1)\n",
    "            self.b = self.b + self.lr*error"
   ]
  },
  {
   "cell_type": "code",
   "execution_count": 104,
   "metadata": {},
   "outputs": [
    {
     "data": {
      "text/plain": [
       "(tensor([[ 0.9478],\n",
       "         [-0.7758],\n",
       "         [ 0.5696]], requires_grad=True),\n",
       " tensor([0.], requires_grad=True),\n",
       " 0.002)"
      ]
     },
     "execution_count": 104,
     "metadata": {},
     "output_type": "execute_result"
    }
   ],
   "source": [
    "model = Perceptron(3, learning_rate=0.002)\n",
    "model.w, model.b, model.lr"
   ]
  },
  {
   "cell_type": "markdown",
   "metadata": {},
   "source": [
    "- A ideia é: sabemos o y desejado e queremos que a partir de x e do erro, o perceptron ajustes o peso e o bias para chegar na saída desejada\n",
    "    - x é uma matriz 10x3 enquanto y é 1x10, ou seja, é como se cada linha de x representasse uma posição de y através de alguma aritmética que a rede vai encontrar"
   ]
  },
  {
   "cell_type": "code",
   "execution_count": 105,
   "metadata": {},
   "outputs": [
    {
     "name": "stdout",
     "output_type": "stream",
     "text": [
      "tensor([[-4.4694, -2.6038,  4.1264],\n",
      "        [ 2.2524,  0.5306,  3.9465],\n",
      "        [ 6.7656,  8.4451,  7.0767],\n",
      "        [ 5.0728, 10.3501,  9.4288],\n",
      "        [10.2649, 15.6277,  7.7340],\n",
      "        [14.9715, 13.2423, 15.8457],\n",
      "        [16.4849, 18.1789, 20.2831],\n",
      "        [18.2188, 19.9427, 21.6505],\n",
      "        [25.0372, 24.9094, 25.1342],\n",
      "        [27.6152, 25.6189, 28.1870]])\n",
      "tensor([0., 1., 2., 3., 4., 5., 6., 7., 8., 9.])\n"
     ]
    }
   ],
   "source": [
    "# X: 3 dimensões por instancia\n",
    "X = torch.arange(30,  dtype = torch.float32).reshape((10,3)) + torch.normal(0, 2, (10,3)) \n",
    "print(X)\n",
    "y =  torch.arange(10,  dtype = torch.float32)\n",
    "# x: Entrada da rede, y: saída correta\n",
    "print(y)"
   ]
  },
  {
   "cell_type": "markdown",
   "metadata": {},
   "source": [
    "* Abaixo, nós usamos o passo pra frente pra a partir dos valores de inicialização, tentar chegar em y\n",
    "    * Como dá pra ver, o erro foi grande, o que já era esperado para o primeiro passo pra frente\n",
    "    * O erro quadrático já sinaliza isso com valores muito maiores que 0"
   ]
  },
  {
   "cell_type": "code",
   "execution_count": 106,
   "metadata": {},
   "outputs": [
    {
     "data": {
      "text/plain": [
       "(tensor([[ 0.1343],\n",
       "         [ 3.9708],\n",
       "         [ 3.8910],\n",
       "         [ 2.1483],\n",
       "         [ 2.0096],\n",
       "         [12.9410],\n",
       "         [13.0729],\n",
       "         [14.1267],\n",
       "         [18.7198],\n",
       "         [22.3515]], grad_fn=<MaximumBackward0>),\n",
       " tensor([0., 1., 2., 3., 4., 5., 6., 7., 8., 9.]),\n",
       " tensor(23.7079, grad_fn=<MeanBackward0>))"
      ]
     },
     "execution_count": 106,
     "metadata": {},
     "output_type": "execute_result"
    }
   ],
   "source": [
    "try1 = model.forward(X)\n",
    "try1, y, model.squared_loss(y, try1) "
   ]
  },
  {
   "cell_type": "markdown",
   "metadata": {},
   "source": [
    "* \"Epocas são o números de vezes que o algoritmo vai ver o conjunto de treinamento completo\""
   ]
  },
  {
   "cell_type": "code",
   "execution_count": 107,
   "metadata": {},
   "outputs": [
    {
     "name": "stdout",
     "output_type": "stream",
     "text": [
      "Epoch: 0\n",
      "Parameters:  [[-0.31693888]\n",
      " [-1.8618505 ]\n",
      " [-0.7420051 ]] -0.05481663718819618\n",
      "Squared Loss: 14.745392\n",
      "Epoch: 20\n",
      "Parameters:  [[0.27355638]\n",
      " [0.00753434]\n",
      " [0.14953747]] 0.09389518201351166\n",
      "Squared Loss: 1.349724\n",
      "Epoch: 40\n",
      "Parameters:  [[0.2615251 ]\n",
      " [0.03008369]\n",
      " [0.17788818]] 0.03309568390250206\n",
      "Squared Loss: 2.452612\n",
      "Epoch: 60\n",
      "Parameters:  [[0.25372082]\n",
      " [0.032742  ]\n",
      " [0.19122887]] -0.03277013823390007\n",
      "Squared Loss: 2.651399\n",
      "Epoch: 80\n",
      "Parameters:  [[0.24926224]\n",
      " [0.0344393 ]\n",
      " [0.20059755]] -0.09882882237434387\n",
      "Squared Loss: 2.790566\n"
     ]
    }
   ],
   "source": [
    "epochs = 100\n",
    "loss_plot = list()\n",
    "for e in range(epochs):\n",
    "    model.train_step(X,y)\n",
    "    loss = model.squared_loss(y, model.forward(X)).item()\n",
    "    loss_plot.append(loss)\n",
    "    if e % 20 == 0:\n",
    "        print(f'Epoch: {e}')\n",
    "        print('Parameters: ', model.w.detach().numpy(), model.b.item())\n",
    "        print(f'Squared Loss: {loss:.6f}')\n",
    "        "
   ]
  },
  {
   "cell_type": "code",
   "execution_count": 108,
   "metadata": {},
   "outputs": [
    {
     "data": {
      "image/png": "[encoded data removed]",
      "text/plain": [
       "<Figure size 432x288 with 1 Axes>"
      ]
     },
     "metadata": {
      "needs_background": "light"
     },
     "output_type": "display_data"
    },
    {
     "data": {
      "text/plain": [
       "(tensor([[ 0.0000],\n",
       "         [ 1.2331],\n",
       "         [ 3.2778],\n",
       "         [ 3.4174],\n",
       "         [ 4.5328],\n",
       "         [ 7.2932],\n",
       "         [ 8.7642],\n",
       "         [ 9.5385],\n",
       "         [12.1196],\n",
       "         [13.4146]], grad_fn=<MaximumBackward0>),\n",
       " tensor([0., 1., 2., 3., 4., 5., 6., 7., 8., 9.]))"
      ]
     },
     "execution_count": 108,
     "metadata": {},
     "output_type": "execute_result"
    }
   ],
   "source": [
    "plt.plot(range(epochs), loss_plot)\n",
    "plt.xlabel('epochs')\n",
    "plt.ylabel('loss')\n",
    "plt.show()\n",
    "\n",
    "model.forward(X), y"
   ]
  },
  {
   "cell_type": "markdown",
   "metadata": {},
   "source": [
    "### Teste (pós treinamento)"
   ]
  },
  {
   "cell_type": "code",
   "execution_count": 109,
   "metadata": {},
   "outputs": [
    {
     "name": "stdout",
     "output_type": "stream",
     "text": [
      "tensor([[ 0.7447,  1.1290,  3.8822],\n",
      "        [ 3.8534,  5.5280,  6.1053],\n",
      "        [ 4.4604, 10.8040,  6.2836],\n",
      "        [ 7.9795,  7.6624,  5.9323],\n",
      "        [13.6535, 12.0843,  9.1533]])\n",
      "tensor([0., 1., 2., 3., 4.])\n"
     ]
    }
   ],
   "source": [
    "X_t = torch.arange(15, dtype=torch.float32).reshape((5,3)) + torch.normal(0, 3, (5,3))\n",
    "print(X_t)\n",
    "y_t = torch.arange(5, dtype=torch.float32)\n",
    "print(y_t)"
   ]
  },
  {
   "cell_type": "code",
   "execution_count": 110,
   "metadata": {},
   "outputs": [
    {
     "data": {
      "text/plain": [
       "(tensor([[0.8696],\n",
       "         [2.2544],\n",
       "         [2.6291],\n",
       "         [3.3112],\n",
       "         [5.5364]], grad_fn=<MaximumBackward0>),\n",
       " tensor([0., 1., 2., 3., 4.]),\n",
       " tensor(0.5183, grad_fn=<MeanBackward0>))"
      ]
     },
     "execution_count": 110,
     "metadata": {},
     "output_type": "execute_result"
    }
   ],
   "source": [
    "model.forward(X_t),  y_t, model.squared_loss(y_t, model.forward(X_t))"
   ]
  }
 ],
 "metadata": {
  "kernelspec": {
   "display_name": "Python 3.8.10 64-bit",
   "language": "python",
   "name": "python3"
  },
  "language_info": {
   "codemirror_mode": {
    "name": "ipython",
    "version": 3
   },
   "file_extension": ".py",
   "mimetype": "text/x-python",
   "name": "python",
   "nbconvert_exporter": "python",
   "pygments_lexer": "ipython3",
   "version": "3.8.10"
  },
  "orig_nbformat": 4,
  "vscode": {
   "interpreter": {
    "hash": "916dbcbb3f70747c44a77c7bcd40155683ae19c65e1c03b4aa3499c5328201f1"
   }
  }
 },
 "nbformat": 4,
 "nbformat_minor": 2
}
