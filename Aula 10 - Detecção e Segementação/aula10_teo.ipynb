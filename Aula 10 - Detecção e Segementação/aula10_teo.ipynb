{
 "cells": [
  {
   "cell_type": "markdown",
   "metadata": {},
   "source": [
    "# AULA 10 TEORIA - Detecção e Segmentação\n",
    "\n",
    "Aula 10 - Aula síncrona\n",
    "\n",
    "---\n",
    "\n",
    "## Detecção e Segmentação\n",
    "\n",
    "- Detecção de Objetos\n",
    "- Regressão + Classificação \n",
    "- Pixel-to-pixel\n",
    "\n",
    "---"
   ]
  },
  {
   "attachments": {},
   "cell_type": "markdown",
   "metadata": {},
   "source": [
    "## Classificação + regressão\n",
    "\n",
    "Objetivo: classificar e localizar\n",
    "\n",
    "Saída da rede \n",
    "- Classes \n",
    "- Valores de uma caixa (bounding box)\n",
    "\n",
    "Formato da predição (saída da rede): presença do objeto, bounding box e classes\n",
    "\n",
    "### Em um grid\n",
    "\n",
    "Treinamento considera grid $SxS$ (comum: $S=19$) e B caixas em formatos pré-definidos, chamados de âncoras (anchors)\n",
    "\n",
    "<img src=\"Imagens/grid.png\" width=\"500\">\n",
    "\n",
    "YOLO: You Only Look Once\n",
    "* Confiança é calculada com: P(classe) * IOU (Intersection over Union)\n",
    "* Saída é de tamanho S x S x (5B + C)\n",
    "\n",
    "Intersecção sobre união (IOU)\n",
    "\n",
    "<img src=\"Imagens/iou.png\" width=\"500\">\n",
    "\n",
    "Non-max supression (NMS)\n",
    "\n",
    "<img src=\"Imagens/nms.png\" width=\"500\">\n",
    "\n",
    "- Descartar $p_{c}$ < 0.6\n",
    "- Selecionar maior $p_{c}$\n",
    "- Descartar caixas com IOU > 0.5    \n",
    "\n",
    "### Detecção de pontos de referência (landmarks)\n",
    "Exemplo: encontrar pontos de uma face\n",
    "Formato da predição (saída da rede): presença do objeto de interesse, coordenadas para cada landmark\n",
    "\n",
    "### U-Net\n",
    "\n",
    "Função de custo\n",
    "- Softmax pixel-a-pixel (ao longo dos canais) + Entropia Cruzada\n",
    "- Pesos computados para:\n",
    "    - Compensar desbalanceamento (fundo é comumente mais proeminente do que os alvos)\n",
    "    - Dar mais peso às bordas das regiões a serem segmentadas\n",
    "\n",
    "Treinamento\n",
    "* Data augmentation> utilizando deformação suave de imagens\n",
    "* Inicialização dos pesos por camada\n",
    "* Treinamento em mini-batches\n",
    "    * Baseada na camada anterior\n",
    "    * Distribuição Gaussiana/normal $\\delta = \\sqrt(2/N)$, sendo N o número de nós de entrada\n",
    "\n",
    "<img src=\"Imagens/unet.png\" width=\"500\">\n",
    "\n",
    "\n",
    "\n",
    "---"
   ]
  }
 ],
 "metadata": {
  "kernelspec": {
   "display_name": "Python 3.8.10 64-bit",
   "language": "python",
   "name": "python3"
  },
  "language_info": {
   "name": "python",
   "version": "3.8.10 (default, Jun 22 2022, 20:18:18) \n[GCC 9.4.0]"
  },
  "orig_nbformat": 4,
  "vscode": {
   "interpreter": {
    "hash": "916dbcbb3f70747c44a77c7bcd40155683ae19c65e1c03b4aa3499c5328201f1"
   }
  }
 },
 "nbformat": 4,
 "nbformat_minor": 2
}
