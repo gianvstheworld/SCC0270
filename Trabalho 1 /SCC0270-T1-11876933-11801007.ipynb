{
 "cells": [
  {
   "cell_type": "markdown",
   "id": "4b0afbf6",
   "metadata": {},
   "source": [
    "# Redes Neurais e Aprendizado Profundo\n",
    "SCC0270 - 2/2022\n",
    "\n",
    "\n",
    "## Trabalho 1 - Redes Densas e Convolucionais\n",
    "\n",
    "NOME: Gianluca Capezzuto Sardinha\n",
    "\n",
    "NUSP: 11876933\n",
    "\n",
    "NOME: Pedro Cavallini\n",
    "\n",
    "NUSP: 11801007"
   ]
  },
  {
   "cell_type": "markdown",
   "id": "69d57ec5",
   "metadata": {},
   "source": [
    "Neste trabalho você deverá implementar duas redes neurais usando Pytorch, uma utilizando camadas densas e outra utilizando camadas convolucionais. Será utilizado o dataset Fashion MNIST."
   ]
  },
  {
   "cell_type": "markdown",
   "id": "302e4495",
   "metadata": {},
   "source": [
    "### Instruções:\n",
    "\n",
    "- Preencha o nome e o número USP da dupla na célula acima;\n",
    "- Renomeie o notebook, inserindo o número USP de cada um da dupla, conforme o exemplo: \"SCC0270-T1-1234567-7654321\";\n",
    "- Neste notebook, você irá encontrar 5 exercícios, cada um deles valendo uma certa quantidade de pontos. A conclusão de todos os exercícios com sucesso valerá nota 10;\n",
    "- Responda cada exercício inserindo o código adequado para cada função.\n",
    "- Envie o notebook inteiro como entrega do exercício.\n",
    "- Certifique-se de que os códigos executam corretamente, uma vez que a nota só será atribuída caso seja possível executar o código, e ele esteja correto.\n",
    "- Fraudes ou plágio implica em nota zero e possíveis medidas administrativas.\n"
   ]
  },
  {
   "cell_type": "markdown",
   "id": "f2eb4c72",
   "metadata": {},
   "source": [
    "### Objetivos:\n",
    "\n",
    "- Compreender como o aprendizado de máquina consegue resolver problemas que métodos tradicionais de programação não conseguem\n",
    "- Aprender sobre o dataset público Fashion MNIST\n",
    "- Observar as diferenças do uso de camadas densas e convolucionais"
   ]
  },
  {
   "cell_type": "markdown",
   "id": "cadc8bd2",
   "metadata": {},
   "source": [
    "### Imports"
   ]
  },
  {
   "cell_type": "code",
   "execution_count": 1,
   "id": "d6a6358b",
   "metadata": {},
   "outputs": [],
   "source": [
    "from torchvision import datasets, transforms, utils # Pacote de datasets populares, arquiteturas e modelos de aprendizado profundo\n",
    "\n",
    "# Importações de algumas bibliotecas úteis para a construção da rede\n",
    "import torch \n",
    "import torch.nn as nn\n",
    "import torch.optim as optim\n",
    "import torch.nn.functional as F\n",
    "from torch.autograd import Variable\n",
    "\n",
    "# Bibliotecas adicionais \n",
    "import matplotlib.pyplot as plt\n",
    "import numpy as np"
   ]
  },
  {
   "cell_type": "code",
   "execution_count": 2,
   "id": "7538835c",
   "metadata": {},
   "outputs": [
    {
     "name": "stdout",
     "output_type": "stream",
     "text": [
      "Using cpu device\n"
     ]
    },
    {
     "name": "stderr",
     "output_type": "stream",
     "text": [
      "/home/gian/.local/lib/python3.8/site-packages/torch/cuda/__init__.py:80: UserWarning: CUDA initialization: CUDA unknown error - this may be due to an incorrectly set up environment, e.g. changing env variable CUDA_VISIBLE_DEVICES after program start. Setting the available devices to be zero. (Triggered internally at  ../c10/cuda/CUDAFunctions.cpp:112.)\n",
      "  return torch._C._cuda_getDeviceCount() > 0\n"
     ]
    }
   ],
   "source": [
    "# Selecionar GPU caso disponível\n",
    "device = torch.device(\"cuda:0\" if torch.cuda.is_available() else \"cpu\")\n",
    "print(f\"Using {device} device\")"
   ]
  },
  {
   "cell_type": "markdown",
   "id": "27fc071e",
   "metadata": {},
   "source": [
    "### Dataset Fashion-MNIST"
   ]
  },
  {
   "cell_type": "markdown",
   "id": "6ee649f9",
   "metadata": {},
   "source": [
    "### Dados, Anotações e Subsets\n",
    "\n",
    "- `train_set`: Imagens usadas para treinar a rede neural. Contém anotações corretas para cada imagem de `train_set`, usado para avaliar as predições do modelo durante a fase de treinamento.\n",
    "- `test_set`: Imagens usadas para avaliar o desempenho do modelo, uma vez que ele já foi treinado. Contém anotações corretas para cada imagem de `test_set`, usado para avaliar as predições do modelo durante a fase de validação\n"
   ]
  },
  {
   "cell_type": "markdown",
   "id": "a2827e94",
   "metadata": {},
   "source": [
    "### Importar dados para a memória"
   ]
  },
  {
   "cell_type": "code",
   "execution_count": 3,
   "id": "a567d63e",
   "metadata": {},
   "outputs": [],
   "source": [
    "# Fazer o download dos dados de treinamento e teste\n",
    "train_set = datasets.FashionMNIST(\n",
    "    \"./data\", \n",
    "    download=True, \n",
    "    transform=transforms.Compose([transforms.ToTensor()])\n",
    ")\n",
    "train_loader = torch.utils.data.DataLoader(train_set, batch_size=100)\n",
    "\n",
    "test_set = datasets.FashionMNIST(\n",
    "    \"./data\", \n",
    "    download=True, \n",
    "    train=False, \n",
    "    transform=transforms.Compose([transforms.ToTensor()])\n",
    ") \n",
    "test_loader = torch.utils.data.DataLoader(test_set, batch_size=100)"
   ]
  },
  {
   "cell_type": "markdown",
   "id": "d9b6200b",
   "metadata": {},
   "source": [
    "### Explorando o dataset"
   ]
  },
  {
   "cell_type": "code",
   "execution_count": 4,
   "id": "9be98bd0",
   "metadata": {},
   "outputs": [
    {
     "data": {
      "text/plain": [
       "60000"
      ]
     },
     "execution_count": 4,
     "metadata": {},
     "output_type": "execute_result"
    }
   ],
   "source": [
    "# Tamanho do dataset\n",
    "len(train_set)"
   ]
  },
  {
   "cell_type": "code",
   "execution_count": 5,
   "id": "c00177e0",
   "metadata": {},
   "outputs": [
    {
     "data": {
      "text/plain": [
       "torch.Size([100, 1, 28, 28])"
      ]
     },
     "execution_count": 5,
     "metadata": {},
     "output_type": "execute_result"
    }
   ],
   "source": [
    "# Vamos observar o que é cada loader\n",
    "example = next(iter(train_loader))\n",
    "example[0].size()"
   ]
  },
  {
   "cell_type": "code",
   "execution_count": 6,
   "id": "3a096b21",
   "metadata": {},
   "outputs": [
    {
     "name": "stdout",
     "output_type": "stream",
     "text": [
      "9\n"
     ]
    },
    {
     "data": {
      "image/png": "[encoded data removed]",
      "text/plain": [
       "<Figure size 432x288 with 1 Axes>"
      ]
     },
     "metadata": {
      "needs_background": "light"
     },
     "output_type": "display_data"
    }
   ],
   "source": [
    "# Uma imagem do train_set com sua respectiva label\n",
    "img, label = next(iter(train_set))\n",
    "plt.imshow(img.squeeze(), cmap=\"gray\")\n",
    "print(label)"
   ]
  },
  {
   "cell_type": "code",
   "execution_count": 7,
   "id": "df314fc6",
   "metadata": {},
   "outputs": [],
   "source": [
    "# Função de ajuda para ler o que significa cada label\n",
    "def convert_label(label):\n",
    "    output_mapping = {\n",
    "        0: \"T-shirt/Top\",\n",
    "        1: \"Trouser\",\n",
    "        2: \"Pullover\",\n",
    "        3: \"Dress\",\n",
    "        4: \"Coat\", \n",
    "        5: \"Sandal\", \n",
    "        6: \"Shirt\",\n",
    "        7: \"Sneaker\",\n",
    "        8: \"Bag\",\n",
    "        9: \"Ankle Boot\"\n",
    "    }\n",
    "    \n",
    "    if type(label) == torch.Tensor:\n",
    "        input = label.item()  \n",
    "    else:\n",
    "        input = label\n",
    "\n",
    "    return output_mapping[input]"
   ]
  },
  {
   "cell_type": "code",
   "execution_count": 8,
   "id": "644bacf0",
   "metadata": {},
   "outputs": [
    {
     "name": "stdout",
     "output_type": "stream",
     "text": [
      "<class 'torch.Tensor'> <class 'torch.Tensor'>\n",
      "torch.Size([10, 1, 28, 28]) torch.Size([10])\n",
      "labels:  Ankle Boot, T-shirt/Top, T-shirt/Top, Dress, T-shirt/Top, Pullover, Sneaker, Pullover, Sandal, Sandal, "
     ]
    },
    {
     "data": {
      "image/png": "[encoded data removed]",
      "text/plain": [
       "<Figure size 1080x1440 with 1 Axes>"
      ]
     },
     "metadata": {
      "needs_background": "light"
     },
     "output_type": "display_data"
    }
   ],
   "source": [
    "# Vamos observar algumas imagens do Fashion MNIST\n",
    "demo_loader = torch.utils.data.DataLoader(train_set, batch_size=10)\n",
    "\n",
    "batch = next(iter(demo_loader))\n",
    "images, labels = batch\n",
    "print(type(images), type(labels))\n",
    "print(images.shape, labels.shape)\n",
    "\n",
    "grid = utils.make_grid(images, nrow=10)\n",
    "\n",
    "plt.figure(figsize=(15, 20))\n",
    "plt.imshow(np.transpose(grid, (1, 2, 0)))\n",
    "print(\"labels: \", end=\" \")\n",
    "for i, label in enumerate(labels):\n",
    "    print(convert_label(label), end=\", \")"
   ]
  },
  {
   "cell_type": "markdown",
   "id": "fc89190d",
   "metadata": {},
   "source": [
    "### Exercício 1 (3 pontos)\n",
    "\n",
    "**Exercício**: Neste trabalho, será necessário implementar duas arquiteturas distintas de redes neurais. Uma vez que elas estejam implementadas, será necessário executar o laço (loop) de treinamento dos modelos por diversas épocas. Para isso, nesse primeiro exercício, crie uma função genérica, capaz de receber um modelo Pytorch e executar os passos básicos de propagação, cálculo do erro, retropropagação e atualização dos pesos. Essa função será utilizada nos exercícios seguintes para treinar os modelos por você implementados. Implemente o laço de treinamento de um modelo por num_epochs.\n",
    "\n",
    "**Instruções**:\n",
    "- Implemente os passos de propagação (forward)\n",
    "- Realize o cálculo do erro usando um critério genérico fornecido pela assinatura da função\n",
    "- Inicialize os gradientes a zero\n",
    "- Implemente o passo de retropropagação do erro (backpropagation)\n",
    "- Faça um passo de otimização\n",
    "- DICA: como essas linhas estão englobadas em uma função, utilize os argumentos da função fit(...), de forma genérica\n"
   ]
  },
  {
   "cell_type": "code",
   "execution_count": 9,
   "id": "2facaa06",
   "metadata": {},
   "outputs": [],
   "source": [
    "def fit(model, criterion, optimizer, train_loader, test_loader, num_epochs=10):\n",
    "    model.to(device)\n",
    "    \n",
    "    train_losses = [] # Lista para armazenar as perdas de treino\n",
    "    test_losses = [] # Lista para armazenar as perdas de teste\n",
    "    \n",
    "    accuracy_list = [] # Lista para armazenar a acurácia do modelo\n",
    "\n",
    "    predictions_list = [] # Lista para armazenar as predições do modelo\n",
    "    labels_list = [] # Lista para armazenar os rotulos do modelo\n",
    "\n",
    "    # 'for' passando por todas as épocas do modelo \n",
    "    for epoch in range(num_epochs):\n",
    "        running_loss = 0 # Setando a perda para 0 a cada época\n",
    "\n",
    "        # 'for' passando por cada imagem e cada label no train_loader\n",
    "        for images, labels in train_loader:\n",
    "            # Transferindo as imagens e as labels para GPU\n",
    "            images, labels = images.to(device), labels.to(device)\n",
    "\n",
    "            ### INÍCIO DO CÓDIGO ### (≈ 5 linhas)\n",
    "            \n",
    "            outputs = model(images) # Passando as imagens pela rede\n",
    "            loss = criterion(outputs, labels) # Calculando a perda com algum dos critérios (MSE, CrossEntropy, etc)\n",
    "            optimizer.zero_grad() # Zerando o buffer dos gradientes\n",
    "            loss.backward() # Fazendo o backpropagation\n",
    "            optimizer.step() # Atualizando os pesos com o otimizador\n",
    "            \n",
    "            ### FIM DO CÓDIGO ###\n",
    "\n",
    "            running_loss += loss.item() # Somando a perda de cada batch\n",
    "\n",
    "        else:\n",
    "        # Testando o modelo\n",
    "\n",
    "            with torch.no_grad():\n",
    "                # Desabilitando o cálculo de gradientes para acelerar o processo\n",
    "                model.eval()\n",
    "\n",
    "                total = 0\n",
    "                test_loss = 0\n",
    "                correct = 0\n",
    "\n",
    "                # 'for' passando por cada imagem e cada label no test_loader\n",
    "                for images, labels in test_loader:\n",
    "                    images, labels = images.to(device), labels.to(device)\n",
    "                    labels_list.append(labels)\n",
    "                    total += len(labels)\n",
    "                    \n",
    "                    ### INÍCIO DO CÓDIGO ### (≈ 1 linha)\n",
    "\n",
    "                    outputs = model(images) # Passando as imagens pela rede treinada\n",
    "                    \n",
    "                    ### FIM DO CÓDIGO ###\n",
    "                    \n",
    "                    predictions = torch.max(outputs, 1)[1].to(device) # Retorna o valor máximo de todos os elementos do tensor\n",
    "                    predictions_list.append(predictions)\n",
    "                    correct += (predictions == labels).sum() # Contando quantas predições foram corretas\n",
    "\n",
    "                    test_loss += criterion(outputs, labels).item() # Somando a perda de teste\n",
    "                test_losses.append(test_loss/len(test_loader))\n",
    "\n",
    "                accuracy = correct * 100 / total # Verficando a acurácia do modelo\n",
    "                accuracy_list.append(accuracy.item())\n",
    "        \n",
    "            # Setando o modelo para treinamento\n",
    "            model.train()\n",
    "        \n",
    "        train_losses.append(running_loss/len(train_loader))\n",
    "\n",
    "        print(f'Epoch {epoch+1}/{num_epochs} .. Train Loss: {train_losses[-1]:.5f} .. Test Loss: {test_losses[-1]:.5f} .. Test Accuracy: {accuracy_list[-1]:.3f}%')\n",
    "\n",
    "            \n",
    "    results = {\n",
    "        'train_losses': train_losses,\n",
    "        'test_losses': test_losses,\n",
    "        'accuracy_list': accuracy_list\n",
    "    }\n",
    "    \n",
    "    return results"
   ]
  },
  {
   "cell_type": "markdown",
   "id": "889cbf8e",
   "metadata": {},
   "source": [
    "### Exercício 2 - Camadas Densas (2 pontos)\n",
    "\n",
    "**Exercício 2.A**: Implemente uma rede neural, usando camadas densas (fully connected), capaz de classificar as imagens do dataset Fashion MNIST. Descreva e justifique a escolha dos parâmetros e das camadas.\n",
    "\n",
    "**Instruções**:\n",
    "- Inicialize a superclasse\n",
    "- Crie o projeto da rede neural usando camadas densas\n",
    "- Implemente o passo de propagação\n",
    "- Insira uma célula de texto, ou comentários ao longo do código com a justificativa"
   ]
  },
  {
   "cell_type": "code",
   "execution_count": 10,
   "id": "444c110e",
   "metadata": {},
   "outputs": [],
   "source": [
    "class NetworkDense(nn.Module):\n",
    "\n",
    "    def __init__(self):\n",
    "        \n",
    "        ### INÍCIO DO CÓDIGO ### (≈ 5 linhas)\n",
    "        super(NetworkDense, self).__init__() # Inicialização da classe pai\n",
    "        # Cria o projeto da rede neural     \n",
    "        self.fc1 = nn.Linear(784, 32) # Camada densa de entrada\n",
    "        self.fc2 = nn.Linear(32, 10) # Camada densa de saída\n",
    "        ### FIM DO CÓDIGO ###\n",
    "\n",
    "    def forward(self, x):\n",
    "        \n",
    "        ### INÍCIO DO CÓDIGO ### (≈ 5 linhas)\n",
    "        x = torch.flatten(x, 1) # Achatamento da imagem - Convertendo de 2D para um vetor de 784 valores de pixel\n",
    "        x = F.relu(self.fc1(x)) # Função de ativação\n",
    "        x = self.fc2(x) # Saída\n",
    "        ### FIM DO CÓDIGO ###\n",
    "        \n",
    "        return x\n"
   ]
  },
  {
   "cell_type": "code",
   "execution_count": 11,
   "id": "d9816ce8",
   "metadata": {},
   "outputs": [],
   "source": [
    "# Justifique a escolha da arquitetura"
   ]
  },
  {
   "cell_type": "markdown",
   "id": "6099498b",
   "metadata": {},
   "source": [
    "**Exercício 2.B**: Utilizando a classe `NetworkDense` implementada anteriormente, inicialize o modelo, defina uma função para loss, o otimizador, e a learning rate desejados. Depois, treine o modelo por algumas épocas."
   ]
  },
  {
   "cell_type": "code",
   "execution_count": 12,
   "id": "2eba9050",
   "metadata": {
    "scrolled": true
   },
   "outputs": [
    {
     "name": "stdout",
     "output_type": "stream",
     "text": [
      "NetworkDense(\n",
      "  (fc1): Linear(in_features=784, out_features=32, bias=True)\n",
      "  (fc2): Linear(in_features=32, out_features=10, bias=True)\n",
      ")\n"
     ]
    }
   ],
   "source": [
    "### INÍCIO DO CÓDIGO ### (≈ 4 linhas)\n",
    "model_dense = NetworkDense()\n",
    "criterion = nn.CrossEntropyLoss()\n",
    "learning_rate = 0.001\n",
    "optimizer = torch.optim.Adam(model_dense.parameters(), lr=learning_rate)\n",
    "### FIM DO CÓDIGO ###\n",
    "\n",
    "print(model_dense)"
   ]
  },
  {
   "cell_type": "code",
   "execution_count": 13,
   "id": "0d77c184",
   "metadata": {
    "scrolled": true
   },
   "outputs": [
    {
     "name": "stdout",
     "output_type": "stream",
     "text": [
      "Epoch 1/10 .. Train Loss: 0.65415 .. Test Loss: 0.50330 .. Test Accuracy: 82.420%\n",
      "Epoch 2/10 .. Train Loss: 0.45385 .. Test Loss: 0.45994 .. Test Accuracy: 83.830%\n",
      "Epoch 3/10 .. Train Loss: 0.41832 .. Test Loss: 0.43866 .. Test Accuracy: 84.440%\n",
      "Epoch 4/10 .. Train Loss: 0.39743 .. Test Loss: 0.42671 .. Test Accuracy: 84.830%\n",
      "Epoch 5/10 .. Train Loss: 0.38266 .. Test Loss: 0.41839 .. Test Accuracy: 84.950%\n",
      "Epoch 6/10 .. Train Loss: 0.37079 .. Test Loss: 0.41168 .. Test Accuracy: 85.320%\n",
      "Epoch 7/10 .. Train Loss: 0.36035 .. Test Loss: 0.40484 .. Test Accuracy: 85.490%\n",
      "Epoch 8/10 .. Train Loss: 0.35092 .. Test Loss: 0.40071 .. Test Accuracy: 85.710%\n",
      "Epoch 9/10 .. Train Loss: 0.34288 .. Test Loss: 0.39730 .. Test Accuracy: 85.810%\n",
      "Epoch 10/10 .. Train Loss: 0.33569 .. Test Loss: 0.39314 .. Test Accuracy: 85.880%\n"
     ]
    }
   ],
   "source": [
    "### INÍCIO DO CÓDIGO ### (≈ 1 linha)\n",
    "den_results = fit(model_dense, criterion, optimizer, train_loader, test_loader)\n",
    "### FIM DO CÓDIGO ###"
   ]
  },
  {
   "cell_type": "markdown",
   "id": "41b4c0e9",
   "metadata": {},
   "source": [
    "### Exercício 3  - Camadas Convolucionais (2 pontos)\n",
    "\n",
    "**Exercício 3.A**: Implemente uma rede neural, usando camadas convolucionais (Conv2d), capaz de classificar as imagens do dataset Fashion MNIST. Descreva e justifique a escolha dos parâmetros e das camadas.\n",
    "\n",
    "**Instruções**:\n",
    "- Inicialize a superclasse\n",
    "- Crie o projeto da rede neural usando camadas convolucionais\n",
    "- Implemente o passo de propagação\n",
    "- Insira uma célula de texto, ou comentários ao longo do código com a justificativa"
   ]
  },
  {
   "cell_type": "code",
   "execution_count": 46,
   "id": "91e66f05",
   "metadata": {},
   "outputs": [],
   "source": [
    "class NetworkCNN(nn.Module):\n",
    "    \n",
    "    def __init__(self):\n",
    "        ### INÍCIO DO CÓDIGO ### \n",
    "        super(NetworkCNN, self).__init__() # Inicialização da classe pai\n",
    "        self.conv1 = nn.Sequential(\n",
    "            nn.Conv2d(1, 16, 3, 1, 2), # Camada de convolução\n",
    "            nn.ReLU(), # Função de ativação\n",
    "            nn.MaxPool2d(2, 2) # Camada de pooling\n",
    "            )\n",
    "        self.conv2 = nn.Sequential(         \n",
    "            nn.Conv2d(16, 32, 5, 1, 2), # Camada de convolução     \n",
    "            nn.ReLU(), # Função de ativação\n",
    "            nn.MaxPool2d(2), # Camada de pooling\n",
    "        )\n",
    "        self.fc1 = nn.Linear(7*7*32, 10) # Camada densa de saída\n",
    "        ### FIM DO CÓDIGO ###\n",
    "        \n",
    "        \n",
    "    def forward(self, x):\n",
    "        \n",
    "        ### INÍCIO DO CÓDIGO ### \n",
    "        x = self.conv1(x) # Passando pela primeira camada de convolução\n",
    "        x = self.conv2(x) # Passando pela segunda camada de convolução\n",
    "        x = x.view(-1, 7*7*32) # Achatamento da imagem - Convertendo de 2D para um vetor de 784 valores de pixel\n",
    "        x = self.fc1(x) # Achatamento da imagem - Convertendo de\n",
    "        ### FIM DO CÓDIGO ###\n",
    "        \n",
    "        return x"
   ]
  },
  {
   "cell_type": "code",
   "execution_count": 33,
   "id": "a6952e4e",
   "metadata": {},
   "outputs": [],
   "source": [
    "# Justifique a escolha da arquitetura"
   ]
  },
  {
   "cell_type": "markdown",
   "id": "b98c48dc",
   "metadata": {},
   "source": [
    "**Exercício 3.B**: Utilizando a classe `NetworkCNN` implementada anteriormente, inicialize o modelo, defina uma função para loss, o otimizador, e a learning rate desejados. Depois, treine o modelo por algumas épocas."
   ]
  },
  {
   "cell_type": "code",
   "execution_count": 47,
   "id": "58287f52",
   "metadata": {},
   "outputs": [
    {
     "name": "stdout",
     "output_type": "stream",
     "text": [
      "NetworkCNN(\n",
      "  (conv1): Sequential(\n",
      "    (0): Conv2d(1, 16, kernel_size=(3, 3), stride=(1, 1), padding=(2, 2))\n",
      "    (1): ReLU()\n",
      "    (2): MaxPool2d(kernel_size=2, stride=2, padding=0, dilation=1, ceil_mode=False)\n",
      "  )\n",
      "  (conv2): Sequential(\n",
      "    (0): Conv2d(16, 32, kernel_size=(5, 5), stride=(1, 1), padding=(2, 2))\n",
      "    (1): ReLU()\n",
      "    (2): MaxPool2d(kernel_size=2, stride=2, padding=0, dilation=1, ceil_mode=False)\n",
      "  )\n",
      "  (fc1): Linear(in_features=1568, out_features=10, bias=True)\n",
      ")\n"
     ]
    }
   ],
   "source": [
    "### INÍCIO DO CÓDIGO ### (≈ 4 linhas)\n",
    "model_cnn = NetworkCNN() # Instanciando a rede neural\n",
    "criterion = nn.CrossEntropyLoss() # Definindo a função de perda\n",
    "learning_rate = 0.001 # Taxa de aprendizado\n",
    "optimizer = torch.optim.Adam(model_cnn.parameters(), lr=learning_rate) # Definindo o otimizador\n",
    "### FIM DO CÓDIGO ###\n",
    "\n",
    "print(model_cnn)"
   ]
  },
  {
   "cell_type": "code",
   "execution_count": 48,
   "id": "0b240e9c",
   "metadata": {},
   "outputs": [
    {
     "name": "stdout",
     "output_type": "stream",
     "text": [
      "Epoch 1/10 .. Train Loss: 0.54289 .. Test Loss: 0.39464 .. Test Accuracy: 85.820%\n",
      "Epoch 2/10 .. Train Loss: 0.34820 .. Test Loss: 0.34319 .. Test Accuracy: 87.640%\n",
      "Epoch 3/10 .. Train Loss: 0.30368 .. Test Loss: 0.31551 .. Test Accuracy: 88.620%\n",
      "Epoch 4/10 .. Train Loss: 0.27569 .. Test Loss: 0.29667 .. Test Accuracy: 89.370%\n",
      "Epoch 5/10 .. Train Loss: 0.25481 .. Test Loss: 0.28591 .. Test Accuracy: 89.700%\n",
      "Epoch 6/10 .. Train Loss: 0.23784 .. Test Loss: 0.27731 .. Test Accuracy: 90.010%\n",
      "Epoch 7/10 .. Train Loss: 0.22356 .. Test Loss: 0.27231 .. Test Accuracy: 90.240%\n",
      "Epoch 8/10 .. Train Loss: 0.21126 .. Test Loss: 0.26737 .. Test Accuracy: 90.500%\n",
      "Epoch 9/10 .. Train Loss: 0.20007 .. Test Loss: 0.26641 .. Test Accuracy: 90.620%\n",
      "Epoch 10/10 .. Train Loss: 0.18996 .. Test Loss: 0.26756 .. Test Accuracy: 90.430%\n"
     ]
    }
   ],
   "source": [
    "### INÍCIO DO CÓDIGO ### (≈ 1 linha)\n",
    "cnn_results = fit(model_cnn, criterion, optimizer, train_loader, test_loader)\n",
    "### FIM DO CÓDIGO ###"
   ]
  },
  {
   "cell_type": "markdown",
   "id": "d8f10449",
   "metadata": {},
   "source": [
    "### Exercício 4  - Quantidade de parâmetros treináveis (1 ponto)\n",
    "\n",
    "**Exercício**: Quantos parâmetros treináveis cada um dos modelos desenvolvidos possui? Justifique. Informe os valores para `model_dense` e `model_cnn`."
   ]
  },
  {
   "cell_type": "code",
   "execution_count": 49,
   "id": "3631e353",
   "metadata": {},
   "outputs": [
    {
     "name": "stdout",
     "output_type": "stream",
     "text": [
      "Número de parâmetros para camadas densas: 25450\n",
      "Número de parâmetros para camadas densas: 28682\n"
     ]
    }
   ],
   "source": [
    "# Para fazer o cálculo dos parâmetros será feito tanto de forma empírica quanto analítica:\n",
    "parameters_fc = 0\n",
    "parameters_cnn = 0 \n",
    "\n",
    "for param in model_dense.parameters():\n",
    "    parameters_fc += param.numel()\n",
    "for param in model_cnn.parameters():\n",
    "    parameters_cnn += param.numel()\n",
    "\n",
    "print(f'Número de parâmetros para camadas densas: {parameters_fc}')\n",
    "print(f'Número de parâmetros para camadas densas: {parameters_cnn}')"
   ]
  },
  {
   "cell_type": "markdown",
   "id": "87df2a6a",
   "metadata": {},
   "source": []
  },
  {
   "cell_type": "markdown",
   "id": "5b23ef3b",
   "metadata": {},
   "source": [
    "### Exercício 5 - Comparação de Resultados (2 pontos)\n",
    "\n",
    "**Exercício**: Compare as métricas de acurácia dos dois modelos desenvolvidos. Qual dos dois obteve melhores resultados?  Por quê? Qual característica das redes que justificam seu desempenho?\n",
    "\n",
    "Utilize o gráfico para auxiliar na análise. Insira uma célula de texto com a sua resposta"
   ]
  },
  {
   "cell_type": "code",
   "execution_count": 50,
   "id": "82a9a2fe",
   "metadata": {},
   "outputs": [
    {
     "data": {
      "image/png": "[encoded data removed]",
      "text/plain": [
       "<Figure size 432x288 with 1 Axes>"
      ]
     },
     "metadata": {
      "needs_background": "light"
     },
     "output_type": "display_data"
    }
   ],
   "source": [
    "### INÍCIO DO CÓDIGO ### (≈ 2 linhas)\n",
    "plt.plot(cnn_results['train_losses'], label='CNN')\n",
    "plt.plot(den_results['train_losses'], label='Dense')\n",
    "### FIM DO CÓDIGO ###\n",
    "\n",
    "plt.legend(frameon=False)\n",
    "plt.xlabel(\"Epoch\")\n",
    "plt.ylabel(\"Accuracy\")\n",
    "plt.title(\"Accuracy\")\n",
    "plt.show()"
   ]
  },
  {
   "cell_type": "markdown",
   "id": "453a0b7f",
   "metadata": {},
   "source": [
    "(Escreva sua resposta)"
   ]
  },
  {
   "cell_type": "markdown",
   "id": "5040a0be",
   "metadata": {},
   "source": [
    "### Indo além... - Comparação de Resultados (sem ponto)\n",
    "\n",
    "É possível plotar o gráfico de loss do treino e da validação para cada um dos modelos. Observe como os erros se comportam de maneira diferente para cada um dos subsets."
   ]
  },
  {
   "cell_type": "code",
   "execution_count": 51,
   "id": "98b72e6a",
   "metadata": {},
   "outputs": [
    {
     "data": {
      "image/png": "[encoded data removed]",
      "text/plain": [
       "<Figure size 432x288 with 1 Axes>"
      ]
     },
     "metadata": {
      "needs_background": "light"
     },
     "output_type": "display_data"
    }
   ],
   "source": [
    "plt.plot(cnn_results['train_losses'], label='Training loss')\n",
    "plt.plot(cnn_results['test_losses'], label='Validation loss')\n",
    "\n",
    "plt.legend(frameon=False)\n",
    "plt.xlabel(\"Epoch\")\n",
    "plt.ylabel(\"Loss\")\n",
    "plt.title(\"Loss\")\n",
    "plt.show()"
   ]
  },
  {
   "cell_type": "code",
   "execution_count": 52,
   "id": "71da0c86",
   "metadata": {},
   "outputs": [
    {
     "data": {
      "image/png": "[encoded data removed]",
      "text/plain": [
       "<Figure size 432x288 with 1 Axes>"
      ]
     },
     "metadata": {
      "needs_background": "light"
     },
     "output_type": "display_data"
    }
   ],
   "source": [
    "plt.plot(den_results['train_losses'], label='Training loss')\n",
    "plt.plot(den_results['test_losses'], label='Validation loss')\n",
    "\n",
    "plt.legend(frameon=False)\n",
    "plt.xlabel(\"Epoch\")\n",
    "plt.ylabel(\"Loss\")\n",
    "plt.title(\"Loss\")\n",
    "plt.show()"
   ]
  },
  {
   "cell_type": "code",
   "execution_count": null,
   "id": "8176bf25",
   "metadata": {},
   "outputs": [],
   "source": []
  }
 ],
 "metadata": {
  "kernelspec": {
   "display_name": "Python 3.8.10 64-bit",
   "language": "python",
   "name": "python3"
  },
  "language_info": {
   "codemirror_mode": {
    "name": "ipython",
    "version": 3
   },
   "file_extension": ".py",
   "mimetype": "text/x-python",
   "name": "python",
   "nbconvert_exporter": "python",
   "pygments_lexer": "ipython3",
   "version": "3.8.10"
  },
  "toc": {
   "base_numbering": 1,
   "nav_menu": {},
   "number_sections": false,
   "sideBar": false,
   "skip_h1_title": false,
   "title_cell": "Table of Contents",
   "title_sidebar": "Contents",
   "toc_cell": false,
   "toc_position": {},
   "toc_section_display": false,
   "toc_window_display": false
  },
  "vscode": {
   "interpreter": {
    "hash": "31f2aee4e71d21fbe5cf8b01ff0e069b9275f58929596ceb00d14d90e3e16cd6"
   }
  }
 },
 "nbformat": 4,
 "nbformat_minor": 5
}
